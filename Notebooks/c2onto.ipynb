{
 "cells": [
  {
   "cell_type": "code",
   "execution_count": 1,
   "metadata": {},
   "outputs": [],
   "source": [
    "import os\n",
    "\n",
    "os.chdir(r'../../../учёба/09s/reasoning/onto-work/c_owl')"
   ]
  },
  {
   "cell_type": "code",
   "execution_count": 2,
   "metadata": {},
   "outputs": [
    {
     "data": {
      "text/plain": [
       "'C:\\\\D\\\\Нинь\\\\учёба\\\\09s\\\\reasoning\\\\onto-work\\\\c_owl'"
      ]
     },
     "execution_count": 2,
     "metadata": {},
     "output_type": "execute_result"
    }
   ],
   "source": [
    "os.getcwd()"
   ]
  },
  {
   "cell_type": "code",
   "execution_count": 7,
   "metadata": {},
   "outputs": [],
   "source": [
    "from pycparser import c_parser, c_ast, parse_file"
   ]
  },
  {
   "cell_type": "raw",
   "metadata": {},
   "source": [
    "from pycparser import c_generator\n",
    "import pycparser"
   ]
  },
  {
   "cell_type": "code",
   "execution_count": 3,
   "metadata": {},
   "outputs": [
    {
     "name": "stdout",
     "output_type": "stream",
     "text": [
      "c2onto definitions OK\n"
     ]
    }
   ],
   "source": [
    "import c2onto"
   ]
  },
  {
   "cell_type": "code",
   "execution_count": 4,
   "metadata": {},
   "outputs": [],
   "source": [
    "from importlib import reload"
   ]
  },
  {
   "cell_type": "code",
   "execution_count": null,
   "metadata": {},
   "outputs": [],
   "source": []
  },
  {
   "cell_type": "code",
   "execution_count": 5,
   "metadata": {},
   "outputs": [
    {
     "name": "stdout",
     "output_type": "stream",
     "text": [
      "c2onto definitions OK\n"
     ]
    }
   ],
   "source": [
    "# Перезагрузка файла\n",
    "c2onto = reload(c2onto)"
   ]
  },
  {
   "cell_type": "code",
   "execution_count": null,
   "metadata": {},
   "outputs": [],
   "source": []
  },
  {
   "cell_type": "raw",
   "metadata": {},
   "source": [
    "OWLPredicate = {\n",
    "    \"type\" : 'rdf:type',\n",
    "}"
   ]
  },
  {
   "cell_type": "markdown",
   "metadata": {},
   "source": [
    "## Прочитаем алгоритм из файла"
   ]
  },
  {
   "cell_type": "code",
   "execution_count": 8,
   "metadata": {
    "scrolled": true
   },
   "outputs": [
    {
     "name": "stdout",
     "output_type": "stream",
     "text": [
      "funcdecl-main\n",
      "call-A\n",
      "call-B\n",
      "call-C\n"
     ]
    }
   ],
   "source": [
    "if __name__ == \"__main__\":\n",
    "    \n",
    "    c2onto.uniq_names.clear()\n",
    "    \n",
    "#     alg_filename = 'examples/ex2f.c'\n",
    "#     alg_filename = 'examples/ex-seq.c'\n",
    "#     alg_filename = 'examples/ex-test.c'\n",
    "    alg_filename = 'examples/ex-1-loop.c'\n",
    "    \n",
    "    ast = parse_file(alg_filename, use_cpp=False)\n",
    "    \n",
    "    alg = c2onto.Algorithm(ast)\n",
    "#     function_defs = find_func_defs(ast)\n",
    "    \n",
    "#     if not function_defs:\n",
    "#     \tprint('no functions detected.')\n",
    "#     \texit(0)\n",
    "    \n",
    "#     for fd in function_defs:\n",
    "#     \tprint()\n",
    "#     \tfd.show()\n"
   ]
  },
  {
   "cell_type": "code",
   "execution_count": 9,
   "metadata": {
    "scrolled": true
   },
   "outputs": [
    {
     "data": {
      "text/plain": [
       "['funcdecl-main',\n",
       " 'seq-main-body',\n",
       " 'call-A',\n",
       " 'for-inti0-i2-i',\n",
       " 'seq-FOR-body',\n",
       " 'call-B',\n",
       " 'expr-FOR-cond-i2',\n",
       " 'stmt-FOR-init',\n",
       " 'stmt-FOR-update',\n",
       " 'call-C']"
      ]
     },
     "execution_count": 9,
     "metadata": {},
     "output_type": "execute_result"
    }
   ],
   "source": [
    "[n.attributes.get(\"id\", '- absent -') for n in alg.nodes]"
   ]
  },
  {
   "cell_type": "code",
   "execution_count": 10,
   "metadata": {},
   "outputs": [
    {
     "data": {
      "text/plain": [
       "['main',\n",
       " 'main-body',\n",
       " 'A',\n",
       " 'FOR_1',\n",
       " 'FOR-body',\n",
       " 'B',\n",
       " 'FOR-cond-i2',\n",
       " 'FOR-init',\n",
       " 'FOR-update',\n",
       " 'C']"
      ]
     },
     "execution_count": 10,
     "metadata": {},
     "output_type": "execute_result"
    }
   ],
   "source": [
    "[n.attributes.get(\"name\", '- absent -') for n in alg.nodes]"
   ]
  },
  {
   "cell_type": "code",
   "execution_count": 11,
   "metadata": {},
   "outputs": [
    {
     "data": {
      "text/plain": [
       "{'call-a': <c2onto.FuncCallNode at 0x52fda70>,\n",
       " 'call-b': <c2onto.FuncCallNode at 0x43b2210>,\n",
       " 'call-c': <c2onto.FuncCallNode at 0x43b2270>,\n",
       " 'c': <c2onto.FuncCallNode at 0x43b2270>}"
      ]
     },
     "execution_count": 11,
     "metadata": {},
     "output_type": "execute_result"
    }
   ],
   "source": [
    "alg.find_candidates_by_subname(\"c\", reverse_check=0, ignore_case=1)"
   ]
  },
  {
   "cell_type": "code",
   "execution_count": 14,
   "metadata": {
    "scrolled": false
   },
   "outputs": [
    {
     "name": "stdout",
     "output_type": "stream",
     "text": [
      "\n",
      "28\n"
     ]
    },
    {
     "data": {
      "text/plain": [
       "[('ALG', 'rdf:type', 'Algorithm'),\n",
       " ('ALG', 'hasFunc', 'funcdecl-main'),\n",
       " ('funcdecl-main', 'rdf:type', 'Function'),\n",
       " ('funcdecl-main', 'hasName', 'main'),\n",
       " ('funcdecl-main', 'hasBody', 'seq-main-body'),\n",
       " ('seq-main-body', 'rdf:type', 'Block'),\n",
       " ('seq-main-body', 'hasFirstSt', 'call-A'),\n",
       " ('seq-main-body', 'hasLastSt', 'call-C'),\n",
       " ('seq-main-body', 'hasSubStmt', 'call-A'),\n",
       " ('call-A', 'rdf:type', 'FuncCall'),\n",
       " ('seq-main-body', 'hasSubStmt', 'for-inti0-i2-i'),\n",
       " ('for-inti0-i2-i', 'rdf:type', 'FOR_st'),\n",
       " ('for-inti0-i2-i', 'hasFORInit', 'stmt-FOR-init'),\n",
       " ('stmt-FOR-init', 'rdf:type', 'Statement'),\n",
       " ('for-inti0-i2-i', 'hasFORUpdate', 'stmt-FOR-update'),\n",
       " ('stmt-FOR-update', 'rdf:type', 'Statement'),\n",
       " ('for-inti0-i2-i', 'hasBody', 'seq-FOR-body'),\n",
       " ('for-inti0-i2-i', 'hasCondition', 'expr-FOR-cond-i2'),\n",
       " ('seq-FOR-body', 'rdf:type', 'Block'),\n",
       " ('seq-FOR-body', 'hasFirstSt', 'call-B'),\n",
       " ('seq-FOR-body', 'hasLastSt', 'call-B'),\n",
       " ('seq-FOR-body', 'hasSubStmt', 'call-B'),\n",
       " ('call-B', 'rdf:type', 'FuncCall'),\n",
       " ('expr-FOR-cond-i2', 'rdf:type', 'Expression'),\n",
       " ('call-A', 'hasNextSt', 'for-inti0-i2-i'),\n",
       " ('seq-main-body', 'hasSubStmt', 'call-C'),\n",
       " ('call-C', 'rdf:type', 'FuncCall'),\n",
       " ('for-inti0-i2-i', 'hasNextSt', 'call-C')]"
      ]
     },
     "execution_count": 14,
     "metadata": {},
     "output_type": "execute_result"
    }
   ],
   "source": [
    "triples = alg.get_triples()\n",
    "print()\n",
    "print(len(triples))\n",
    "(triples)"
   ]
  },
  {
   "cell_type": "markdown",
   "metadata": {},
   "source": [
    "## Определения функций и классов для трассы"
   ]
  },
  {
   "cell_type": "code",
   "execution_count": 20,
   "metadata": {},
   "outputs": [
    {
     "name": "stdout",
     "output_type": "stream",
     "text": [
      "tr2onto definitions OK\n",
      "\\n\\o/\n",
      " H\n",
      "/|\n"
     ]
    }
   ],
   "source": [
    "import tr2onto"
   ]
  },
  {
   "cell_type": "code",
   "execution_count": 86,
   "metadata": {
    "scrolled": false
   },
   "outputs": [
    {
     "name": "stdout",
     "output_type": "stream",
     "text": [
      "tr2onto definitions OK\n",
      "\n",
      "\\o/\n",
      " H\n",
      "/|\n"
     ]
    }
   ],
   "source": [
    "# Перезагрузка файла\n",
    "tr2onto = reload(tr2onto)"
   ]
  },
  {
   "cell_type": "markdown",
   "metadata": {},
   "source": [
    "## Прочитаем трассу из файла"
   ]
  },
  {
   "cell_type": "code",
   "execution_count": 87,
   "metadata": {
    "scrolled": true
   },
   "outputs": [],
   "source": [
    "trace_filename = 'examples/ex-1-loop.tr'\n",
    "\n",
    "with open(trace_filename) as f:\n",
    "    trace_text = f.read()\n",
    "\n",
    "# tokens = [L.strip().split() for L in lines]\n",
    "\n",
    "# del lines\n",
    "# tokens"
   ]
  },
  {
   "cell_type": "code",
   "execution_count": 88,
   "metadata": {},
   "outputs": [
    {
     "name": "stdout",
     "output_type": "stream",
     "text": [
      "===                TRACE created.\n",
      "[('A', ['main-body'], [], None), ('For-init', ['For-inti0'], [], None), ('For-cond', [], [], 'true'), ('B', ['For-body'], ['For-body'], None), ('For-update', [], [], None), ('For-cond', [], [], 'true'), ('B', ['For-body'], ['For-body'], None), ('For-update', [], [], None), ('For-cond', [], ['For-inti0'], 'false'), ('C', [], ['main-body'], None)]\n",
      "===            main-body created.\n",
      "===                    A created.\n",
      "===            For-inti0 created.\n",
      "===             For-init created.\n",
      "===             For-cond created.\n",
      "\t\t\t ^ this is a Condition !\n",
      "===             For-body created.\n",
      "===                    B created.\n",
      "===           For-update created.\n",
      "===           For-cond_1 created.\n",
      "\t\t\t ^ this is a Condition !\n",
      "===           For-body_1 created.\n",
      "===                  B_1 created.\n",
      "===         For-update_1 created.\n",
      "===           For-cond_2 created.\n",
      "\t\t\t ^ this is a Condition !\n",
      "===                    C created.\n"
     ]
    }
   ],
   "source": [
    "# uniq_names.clear()\n",
    "# using existing alg\n",
    "\n",
    "c2onto.clear_unique_set()\n",
    "\n",
    "tr = tr2onto.Trace(alg)\n",
    "tr.parse(trace_text)"
   ]
  },
  {
   "cell_type": "code",
   "execution_count": 89,
   "metadata": {},
   "outputs": [
    {
     "data": {
      "text/plain": [
       "'TRACE'"
      ]
     },
     "execution_count": 89,
     "metadata": {},
     "output_type": "execute_result"
    }
   ],
   "source": [
    "tr.node_name"
   ]
  },
  {
   "cell_type": "code",
   "execution_count": 90,
   "metadata": {},
   "outputs": [
    {
     "name": "stdout",
     "output_type": "stream",
     "text": [
      "107\n"
     ]
    },
    {
     "data": {
      "text/plain": [
       "[('TRACE', 'hasBegin', 'A'),\n",
       " ('TRACE', 'hasEnd', 'C'),\n",
       " ('A', 'hasNextAct', 'For-init'),\n",
       " ('For-init', 'hasNextAct', 'For-cond'),\n",
       " ('For-cond', 'hasNextAct', 'B'),\n",
       " ('B', 'hasNextAct', 'For-update'),\n",
       " ('For-update', 'hasNextAct', 'For-cond_1'),\n",
       " ('For-cond_1', 'hasNextAct', 'B_1'),\n",
       " ('B_1', 'hasNextAct', 'For-update_1'),\n",
       " ('For-update_1', 'hasNextAct', 'For-cond_2'),\n",
       " ('For-cond_2', 'hasNextAct', 'C'),\n",
       " ('TRACE', 'rdf:type', 'Trace'),\n",
       " ('TRACE', 'hasOrigin', 'ALG'),\n",
       " ('TRACE', 'hasFirstAct', 'main-body'),\n",
       " ('TRACE', 'hasLastAct', 'main-body'),\n",
       " ('TRACE', 'hasDirectPart', 'main-body'),\n",
       " ('main-body', 'rdf:type', 'Act'),\n",
       " ('main-body', 'hasOrigin', 'seq-main-body'),\n",
       " ('main-body', 'hasFirstAct', 'A'),\n",
       " ('main-body', 'hasLastAct', 'C'),\n",
       " ('main-body', 'hasDirectPart', 'A'),\n",
       " ('A', 'rdf:type', 'Act'),\n",
       " ('A', 'hasOrigin', 'call-A'),\n",
       " ('A', 'hasDirectPart', 'owl:Nothing'),\n",
       " ('A', 'hasFirstAct', 'A'),\n",
       " ('A', 'hasLastAct', 'A'),\n",
       " ('main-body', 'hasDirectPart', 'For-inti0'),\n",
       " ('For-inti0', 'rdf:type', 'Act'),\n",
       " ('For-inti0', 'hasOrigin', 'for-inti0-i2-i'),\n",
       " ('For-inti0', 'hasFirstAct', 'For-init'),\n",
       " ('For-inti0', 'hasLastAct', 'For-cond_2'),\n",
       " ('For-inti0', 'hasDirectPart', 'For-init'),\n",
       " ('For-init', 'rdf:type', 'Act'),\n",
       " ('For-init', 'hasOrigin', 'stmt-FOR-init'),\n",
       " ('For-init', 'hasDirectPart', 'owl:Nothing'),\n",
       " ('For-init', 'hasFirstAct', 'For-init'),\n",
       " ('For-init', 'hasLastAct', 'For-init'),\n",
       " ('For-inti0', 'hasDirectPart', 'For-cond'),\n",
       " ('For-cond', 'evals_to', True),\n",
       " ('For-cond', 'rdf:type', 'ConditionAct'),\n",
       " ('For-cond', 'hasOrigin', 'expr-FOR-cond-i2'),\n",
       " ('For-cond', 'hasDirectPart', 'owl:Nothing'),\n",
       " ('For-cond', 'hasFirstAct', 'For-cond'),\n",
       " ('For-cond', 'hasLastAct', 'For-cond'),\n",
       " ('For-init', 'hasNextAct', 'For-cond'),\n",
       " ('For-inti0', 'hasDirectPart', 'For-body'),\n",
       " ('For-body', 'rdf:type', 'Act'),\n",
       " ('For-body', 'hasOrigin', 'seq-FOR-body'),\n",
       " ('For-body', 'hasFirstAct', 'B'),\n",
       " ('For-body', 'hasLastAct', 'B'),\n",
       " ('For-body', 'hasDirectPart', 'B'),\n",
       " ('B', 'rdf:type', 'Act'),\n",
       " ('B', 'hasOrigin', 'call-B'),\n",
       " ('B', 'hasDirectPart', 'owl:Nothing'),\n",
       " ('B', 'hasFirstAct', 'B'),\n",
       " ('B', 'hasLastAct', 'B'),\n",
       " ('For-cond', 'hasNextAct', 'For-body'),\n",
       " ('For-inti0', 'hasDirectPart', 'For-update'),\n",
       " ('For-update', 'rdf:type', 'Act'),\n",
       " ('For-update', 'hasOrigin', 'stmt-FOR-update'),\n",
       " ('For-update', 'hasDirectPart', 'owl:Nothing'),\n",
       " ('For-update', 'hasFirstAct', 'For-update'),\n",
       " ('For-update', 'hasLastAct', 'For-update'),\n",
       " ('For-body', 'hasNextAct', 'For-update'),\n",
       " ('For-inti0', 'hasDirectPart', 'For-cond_1'),\n",
       " ('For-cond_1', 'evals_to', True),\n",
       " ('For-cond_1', 'rdf:type', 'ConditionAct'),\n",
       " ('For-cond_1', 'hasOrigin', 'expr-FOR-cond-i2'),\n",
       " ('For-cond_1', 'hasDirectPart', 'owl:Nothing'),\n",
       " ('For-cond_1', 'hasFirstAct', 'For-cond_1'),\n",
       " ('For-cond_1', 'hasLastAct', 'For-cond_1'),\n",
       " ('For-update', 'hasNextAct', 'For-cond_1'),\n",
       " ('For-inti0', 'hasDirectPart', 'For-body_1'),\n",
       " ('For-body_1', 'rdf:type', 'Act'),\n",
       " ('For-body_1', 'hasOrigin', 'seq-FOR-body'),\n",
       " ('For-body_1', 'hasFirstAct', 'B_1'),\n",
       " ('For-body_1', 'hasLastAct', 'B_1'),\n",
       " ('For-body_1', 'hasDirectPart', 'B_1'),\n",
       " ('B_1', 'rdf:type', 'Act'),\n",
       " ('B_1', 'hasOrigin', 'call-B'),\n",
       " ('B_1', 'hasDirectPart', 'owl:Nothing'),\n",
       " ('B_1', 'hasFirstAct', 'B_1'),\n",
       " ('B_1', 'hasLastAct', 'B_1'),\n",
       " ('For-cond_1', 'hasNextAct', 'For-body_1'),\n",
       " ('For-inti0', 'hasDirectPart', 'For-update_1'),\n",
       " ('For-update_1', 'rdf:type', 'Act'),\n",
       " ('For-update_1', 'hasOrigin', 'stmt-FOR-update'),\n",
       " ('For-update_1', 'hasDirectPart', 'owl:Nothing'),\n",
       " ('For-update_1', 'hasFirstAct', 'For-update_1'),\n",
       " ('For-update_1', 'hasLastAct', 'For-update_1'),\n",
       " ('For-body_1', 'hasNextAct', 'For-update_1'),\n",
       " ('For-inti0', 'hasDirectPart', 'For-cond_2'),\n",
       " ('For-cond_2', 'evals_to', False),\n",
       " ('For-cond_2', 'rdf:type', 'ConditionAct'),\n",
       " ('For-cond_2', 'hasOrigin', 'expr-FOR-cond-i2'),\n",
       " ('For-cond_2', 'hasDirectPart', 'owl:Nothing'),\n",
       " ('For-cond_2', 'hasFirstAct', 'For-cond_2'),\n",
       " ('For-cond_2', 'hasLastAct', 'For-cond_2'),\n",
       " ('For-update_1', 'hasNextAct', 'For-cond_2'),\n",
       " ('A', 'hasNextAct', 'For-inti0'),\n",
       " ('main-body', 'hasDirectPart', 'C'),\n",
       " ('C', 'rdf:type', 'Act'),\n",
       " ('C', 'hasOrigin', 'call-C'),\n",
       " ('C', 'hasDirectPart', 'owl:Nothing'),\n",
       " ('C', 'hasFirstAct', 'C'),\n",
       " ('C', 'hasLastAct', 'C'),\n",
       " ('For-inti0', 'hasNextAct', 'C')]"
      ]
     },
     "execution_count": 90,
     "metadata": {},
     "output_type": "execute_result"
    }
   ],
   "source": [
    "_3ples = tr.get_triples()\n",
    "print(len(_3ples))\n",
    "_3ples"
   ]
  },
  {
   "cell_type": "code",
   "execution_count": null,
   "metadata": {},
   "outputs": [],
   "source": []
  },
  {
   "cell_type": "code",
   "execution_count": null,
   "metadata": {},
   "outputs": [],
   "source": []
  },
  {
   "cell_type": "code",
   "execution_count": null,
   "metadata": {},
   "outputs": [],
   "source": []
  },
  {
   "cell_type": "code",
   "execution_count": null,
   "metadata": {},
   "outputs": [],
   "source": []
  },
  {
   "cell_type": "code",
   "execution_count": 62,
   "metadata": {},
   "outputs": [],
   "source": [
    "v = FuncDefFinder()"
   ]
  },
  {
   "cell_type": "code",
   "execution_count": null,
   "metadata": {},
   "outputs": [],
   "source": [
    "v.generic_visit(ast)"
   ]
  },
  {
   "cell_type": "code",
   "execution_count": 18,
   "metadata": {},
   "outputs": [
    {
     "data": {
      "text/plain": [
       "True"
      ]
     },
     "execution_count": 18,
     "metadata": {},
     "output_type": "execute_result"
    }
   ],
   "source": [
    "isinstance('abc',str)"
   ]
  },
  {
   "cell_type": "code",
   "execution_count": 53,
   "metadata": {},
   "outputs": [
    {
     "data": {
      "text/plain": [
       "'Algorithm@<root>'"
      ]
     },
     "execution_count": 53,
     "metadata": {},
     "output_type": "execute_result"
    }
   ],
   "source": [
    "alg.node_name\n"
   ]
  },
  {
   "cell_type": "code",
   "execution_count": 38,
   "metadata": {},
   "outputs": [
    {
     "data": {
      "text/plain": [
       "[<__main__.FuncDefNode at 0x5eb1a50>, <__main__.FuncDefNode at 0x5eb19f0>]"
      ]
     },
     "execution_count": 38,
     "metadata": {},
     "output_type": "execute_result"
    }
   ],
   "source": [
    "alg.nodes"
   ]
  },
  {
   "cell_type": "code",
   "execution_count": 39,
   "metadata": {},
   "outputs": [
    {
     "data": {
      "text/plain": [
       "[<__main__.FuncDefNode at 0x5eb1a50>, <__main__.FuncDefNode at 0x5eb19f0>]"
      ]
     },
     "execution_count": 39,
     "metadata": {},
     "output_type": "execute_result"
    }
   ],
   "source": [
    "# def rpr(self):\n",
    "#     return self.repr()\n",
    "# alg.nodes[0].__str__ = rpr\n",
    "\n",
    "alg.nodes"
   ]
  },
  {
   "cell_type": "code",
   "execution_count": 40,
   "metadata": {},
   "outputs": [],
   "source": [
    "f = alg.nodes[0]\n"
   ]
  },
  {
   "cell_type": "code",
   "execution_count": 42,
   "metadata": {
    "scrolled": true
   },
   "outputs": [
    {
     "data": {
      "text/plain": [
       "'FuncDef@examples/ex2f.c:3:6'"
      ]
     },
     "execution_count": 42,
     "metadata": {},
     "output_type": "execute_result"
    }
   ],
   "source": [
    "f.node_name"
   ]
  },
  {
   "cell_type": "code",
   "execution_count": 30,
   "metadata": {},
   "outputs": [],
   "source": [
    "b = ast.ext[1].body\n",
    "b2 = b.block_items[1]"
   ]
  },
  {
   "cell_type": "code",
   "execution_count": 68,
   "metadata": {},
   "outputs": [
    {
     "data": {
      "text/plain": [
       "'7:1'"
      ]
     },
     "execution_count": 68,
     "metadata": {},
     "output_type": "execute_result"
    }
   ],
   "source": [
    "coord2str(b2.coord)"
   ]
  },
  {
   "cell_type": "code",
   "execution_count": 71,
   "metadata": {},
   "outputs": [
    {
     "data": {
      "text/plain": [
       "pycparser.plyparser.Coord"
      ]
     },
     "execution_count": 71,
     "metadata": {},
     "output_type": "execute_result"
    }
   ],
   "source": [
    "type(b2.coord)"
   ]
  },
  {
   "cell_type": "code",
   "execution_count": 44,
   "metadata": {},
   "outputs": [],
   "source": [
    "if1 = b2.block_items[0]"
   ]
  },
  {
   "cell_type": "code",
   "execution_count": 54,
   "metadata": {},
   "outputs": [
    {
     "data": {
      "text/plain": [
       "pycparser.c_ast.Constant"
      ]
     },
     "execution_count": 54,
     "metadata": {},
     "output_type": "execute_result"
    }
   ],
   "source": [
    "type(if1.cond)"
   ]
  },
  {
   "cell_type": "code",
   "execution_count": 63,
   "metadata": {},
   "outputs": [
    {
     "name": "stdout",
     "output_type": "stream",
     "text": [
      "1\n"
     ]
    }
   ],
   "source": [
    "print(ast_to_code(if1.cond))"
   ]
  },
  {
   "cell_type": "code",
   "execution_count": 65,
   "metadata": {},
   "outputs": [
    {
     "name": "stdout",
     "output_type": "stream",
     "text": [
      "a, b, c, d, e, f\n"
     ]
    }
   ],
   "source": [
    "call = b.block_items[0].stmt\n",
    "print(ast_to_code(call.args))"
   ]
  },
  {
   "cell_type": "code",
   "execution_count": null,
   "metadata": {},
   "outputs": [],
   "source": []
  },
  {
   "cell_type": "code",
   "execution_count": 37,
   "metadata": {},
   "outputs": [
    {
     "data": {
      "text/plain": [
       "type"
      ]
     },
     "execution_count": 37,
     "metadata": {},
     "output_type": "execute_result"
    }
   ],
   "source": [
    "type(type(b))"
   ]
  },
  {
   "cell_type": "code",
   "execution_count": 40,
   "metadata": {},
   "outputs": [
    {
     "data": {
      "text/plain": [
       "True"
      ]
     },
     "execution_count": 40,
     "metadata": {},
     "output_type": "execute_result"
    }
   ],
   "source": [
    "type(b) == c_ast.Compound"
   ]
  },
  {
   "cell_type": "code",
   "execution_count": 35,
   "metadata": {},
   "outputs": [
    {
     "data": {
      "text/plain": [
       "True"
      ]
     },
     "execution_count": 35,
     "metadata": {},
     "output_type": "execute_result"
    }
   ],
   "source": [
    "b.__class__ == c_ast.Compound"
   ]
  },
  {
   "cell_type": "code",
   "execution_count": 53,
   "metadata": {},
   "outputs": [
    {
     "name": "stdout",
     "output_type": "stream",
     "text": [
      "FileAST: \n",
      "  Decl <ext[0]>: name=global_counter, quals=[], storage=[], funcspec=[]\n",
      "    TypeDecl <type>: declname=global_counter, quals=[]\n",
      "      IdentifierType <type>: names=['int']\n",
      "    Constant <init>: type=int, value=0\n",
      "  FuncDef <ext[1]>: \n",
      "    Decl <decl>: name=main, quals=[], storage=[], funcspec=[]\n",
      "      FuncDecl <type>: \n",
      "        TypeDecl <type>: declname=main, quals=[]\n",
      "          IdentifierType <type>: names=['void']\n",
      "    Compound <body>: \n",
      "      For <block_items[0]>: \n",
      "        FuncCall <stmt>: \n",
      "          ID <name>: name=st_3\n",
      "          ExprList <args>: \n",
      "            ID <exprs[0]>: name=a\n",
      "            ID <exprs[1]>: name=b\n",
      "            ID <exprs[2]>: name=c\n",
      "            ID <exprs[3]>: name=d\n",
      "            ID <exprs[4]>: name=e\n",
      "            ID <exprs[5]>: name=f\n",
      "      Compound <block_items[1]>: \n",
      "        If <block_items[0]>: \n",
      "          Constant <cond>: type=int, value=1\n",
      "          Compound <iftrue>: \n",
      "            If <block_items[0]>: \n",
      "              Constant <cond>: type=int, value=0\n",
      "              Compound <iftrue>: \n",
      "                FuncCall <block_items[0]>: \n",
      "                  ID <name>: name=do_9\n",
      "                  ExprList <args>: \n",
      "                    BinaryOp <exprs[0]>: op=*\n",
      "                      ID <left>: name=x\n",
      "                      Constant <right>: type=int, value=2\n",
      "                FuncCall <block_items[1]>: \n",
      "                  ID <name>: name=do_10\n",
      "                  ExprList <args>: \n",
      "                    BinaryOp <exprs[0]>: op=-\n",
      "                      ID <left>: name=y\n",
      "                      Constant <right>: type=int, value=25\n",
      "  FuncDef <ext[2]>: \n",
      "    Decl <decl>: name=my_f, quals=[], storage=[], funcspec=[]\n",
      "      FuncDecl <type>: \n",
      "        ParamList <args>: \n",
      "          Decl <params[0]>: name=param, quals=[], storage=[], funcspec=[]\n",
      "            TypeDecl <type>: declname=param, quals=[]\n",
      "              IdentifierType <type>: names=['int']\n",
      "        TypeDecl <type>: declname=my_f, quals=[]\n",
      "          IdentifierType <type>: names=['void']\n",
      "    Compound <body>: \n",
      "      FuncCall <block_items[0]>: \n",
      "        ID <name>: name=see_help\n",
      "        ExprList <args>: \n",
      "          Constant <exprs[0]>: type=string, value=\"tools\"\n",
      "      Return <block_items[1]>: \n",
      "        BinaryOp <expr>: op=<<\n",
      "          ID <left>: name=param\n",
      "          BinaryOp <right>: op=-\n",
      "            Constant <left>: type=int, value=5\n",
      "            ID <right>: name=param\n"
     ]
    }
   ],
   "source": [
    "ast.show(nodenames=1, attrnames=True)\n"
   ]
  }
 ],
 "metadata": {
  "kernelspec": {
   "display_name": "Python 3",
   "language": "python",
   "name": "python3"
  },
  "language_info": {
   "codemirror_mode": {
    "name": "ipython",
    "version": 3
   },
   "file_extension": ".py",
   "mimetype": "text/x-python",
   "name": "python",
   "nbconvert_exporter": "python",
   "pygments_lexer": "ipython3",
   "version": "3.7.2"
  }
 },
 "nbformat": 4,
 "nbformat_minor": 2
}
