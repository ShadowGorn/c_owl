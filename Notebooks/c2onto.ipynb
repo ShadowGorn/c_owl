{
 "cells": [
  {
   "cell_type": "code",
   "execution_count": 1,
   "metadata": {},
   "outputs": [],
   "source": [
    "import os\n",
    "\n",
    "os.chdir(r'../../../учёба/09s/reasoning/onto-work/c_owl')"
   ]
  },
  {
   "cell_type": "code",
   "execution_count": 2,
   "metadata": {},
   "outputs": [
    {
     "data": {
      "text/plain": [
       "'C:\\\\D\\\\Нинь\\\\учёба\\\\09s\\\\reasoning\\\\onto-work\\\\c_owl'"
      ]
     },
     "execution_count": 2,
     "metadata": {},
     "output_type": "execute_result"
    }
   ],
   "source": [
    "os.getcwd()"
   ]
  },
  {
   "cell_type": "code",
   "execution_count": 3,
   "metadata": {},
   "outputs": [],
   "source": [
    "from pycparser import c_parser, c_ast, parse_file"
   ]
  },
  {
   "cell_type": "raw",
   "metadata": {},
   "source": [
    "from pycparser import c_generator\n",
    "import pycparser"
   ]
  },
  {
   "cell_type": "code",
   "execution_count": 4,
   "metadata": {},
   "outputs": [
    {
     "name": "stdout",
     "output_type": "stream",
     "text": [
      "definitions OK\n"
     ]
    }
   ],
   "source": [
    "import c2onto"
   ]
  },
  {
   "cell_type": "code",
   "execution_count": 5,
   "metadata": {},
   "outputs": [],
   "source": [
    "from importlib import reload"
   ]
  },
  {
   "cell_type": "code",
   "execution_count": null,
   "metadata": {},
   "outputs": [],
   "source": []
  },
  {
   "cell_type": "code",
   "execution_count": 21,
   "metadata": {},
   "outputs": [
    {
     "name": "stdout",
     "output_type": "stream",
     "text": [
      "definitions OK\n"
     ]
    }
   ],
   "source": [
    "# Перезагрузка файла\n",
    "c2onto = reload(c2onto)"
   ]
  },
  {
   "cell_type": "code",
   "execution_count": null,
   "metadata": {},
   "outputs": [],
   "source": []
  },
  {
   "cell_type": "code",
   "execution_count": 7,
   "metadata": {},
   "outputs": [],
   "source": [
    "uniq_names = set()\n",
    "suffix_sep = '_'\n",
    "\n",
    "def ensure_unique(name):\n",
    "    if name in uniq_names:\n",
    "        i = 1\n",
    "        new_name = name+suffix_sep+str(i)\n",
    "        while new_name in uniq_names:\n",
    "            i += 1\n",
    "            new_name = name+suffix_sep+str(i)\n",
    "        name = new_name\n",
    "    \n",
    "    uniq_names.add(name)\n",
    "    return name"
   ]
  },
  {
   "cell_type": "code",
   "execution_count": 8,
   "metadata": {},
   "outputs": [
    {
     "name": "stdout",
     "output_type": "stream",
     "text": [
      "no-name\n",
      "no-name_1\n",
      "no-name_2\n"
     ]
    }
   ],
   "source": [
    "print(ensure_unique('no-name'))\n",
    "print(ensure_unique('no-name'))\n",
    "print(ensure_unique('no-name'))"
   ]
  },
  {
   "cell_type": "code",
   "execution_count": 9,
   "metadata": {},
   "outputs": [],
   "source": [
    "OWLPredicate = {\n",
    "    \"type\" : 'rdf:type',\n",
    "}"
   ]
  },
  {
   "cell_type": "code",
   "execution_count": 22,
   "metadata": {
    "scrolled": true
   },
   "outputs": [
    {
     "name": "stdout",
     "output_type": "stream",
     "text": [
      "go()\n",
      "f()\n",
      "main()\n"
     ]
    }
   ],
   "source": [
    "if __name__ == \"__main__\":\n",
    "    \n",
    "    c2onto.uniq_names.clear()\n",
    "    \n",
    "#     alg_filename = 'examples/ex2f.c'\n",
    "#     alg_filename = 'examples/ex-seq.c'\n",
    "    alg_filename = 'examples/ex-test.c'\n",
    "    \n",
    "    ast = parse_file(alg_filename, use_cpp=False)\n",
    "    \n",
    "    alg = c2onto.Algorithm(ast)\n",
    "#     function_defs = find_func_defs(ast)\n",
    "    \n",
    "#     if not function_defs:\n",
    "#     \tprint('no functions detected.')\n",
    "#     \texit(0)\n",
    "    \n",
    "#     for fd in function_defs:\n",
    "#     \tprint()\n",
    "#     \tfd.show()\n"
   ]
  },
  {
   "cell_type": "code",
   "execution_count": 11,
   "metadata": {
    "scrolled": true
   },
   "outputs": [
    {
     "name": "stdout",
     "output_type": "stream",
     "text": [
      "\n",
      "16\n"
     ]
    },
    {
     "data": {
      "text/plain": [
       "\"[('Algorithm', 'rdf:type', 'Algorithm'), ('Algorithm', 'hasFunc', 'main()'), ('main()', 'rdf:type', 'Function'), ('main()', 'hasName', 'main'), ('main()', 'hasBody', 'Seq_1'), ('Seq_1', 'rdf:type', 'Block'), ('Seq_1', 'hasFirstSt', 'call-hello()'), ('Seq_1', 'hasLastSt', 'call-bye()'), ('Seq_1', 'hasSubStmt', 'call-hello()'), ('call-hello()', 'rdf:type', 'FuncCall'), ('Seq_1', 'hasSubStmt', 'call-how_are_you()'), ('call-how_are_you()', 'rdf:type', 'FuncCall'), ('call-hello()', 'hasNextSt', 'call-how_are_you()'), ('Seq_1', 'hasSubStmt', 'call-bye()'), ('call-bye()', 'rdf:type', 'FuncCall'), ('call-how_are_you()', 'hasNextSt', 'call-bye()')]\""
      ]
     },
     "execution_count": 11,
     "metadata": {},
     "output_type": "execute_result"
    }
   ],
   "source": [
    "triples = alg.get_triples()\n",
    "print()\n",
    "print(len(triples))\n",
    "str(triples)"
   ]
  },
  {
   "cell_type": "code",
   "execution_count": 15,
   "metadata": {},
   "outputs": [
    {
     "name": "stdout",
     "output_type": "stream",
     "text": [
      "('Algorithm', 'rdf:type', 'Algorithm')\n",
      "('Algorithm', 'hasFunc', 'main()')\n",
      "('main()', 'rdf:type', 'Function')\n",
      "('main()', 'hasName', 'main')\n",
      "('main()', 'hasBody', 'Seq_1')\n",
      "('Seq_1', 'rdf:type', 'Block')\n",
      "('Seq_1', 'hasFirstSt', 'call-hello()')\n",
      "('Seq_1', 'hasLastSt', 'call-bye()')\n",
      "('Seq_1', 'hasSubStmt', 'call-hello()')\n",
      "('call-hello()', 'rdf:type', 'FuncCall')\n",
      "('Seq_1', 'hasSubStmt', 'call-how_are_you()')\n",
      "('call-how_are_you()', 'rdf:type', 'FuncCall')\n",
      "('call-hello()', 'hasNextSt', 'call-how_are_you()')\n",
      "('Seq_1', 'hasSubStmt', 'call-bye()')\n",
      "('call-bye()', 'rdf:type', 'FuncCall')\n",
      "('call-how_are_you()', 'hasNextSt', 'call-bye()')\n"
     ]
    }
   ],
   "source": [
    "print('\\n'.join(map(str, triples)))"
   ]
  },
  {
   "cell_type": "markdown",
   "metadata": {},
   "source": [
    "## Определения функций и классов для трассы"
   ]
  },
  {
   "cell_type": "code",
   "execution_count": 100,
   "metadata": {},
   "outputs": [],
   "source": [
    "def parse_trace_token(token):\n",
    "    \"\"\" parse_trace_token(\"name#N\") -> (\"name\", N) \n",
    "    in absence of #N ssuffix, N is set to 0. \"\"\"\n",
    "    chunks = token.split('#')\n",
    "#     print(chunks)\n",
    "    if len(chunks) == 2:\n",
    "        name, N = chunks\n",
    "        try: N = int(N)\n",
    "        except Exception: raise SyntaxError(\"Wrong number suffix: '%s' in token '%s'.\" % (N, token))\n",
    "        return (name, N)\n",
    "    if len(chunks) == 1:\n",
    "        N = 0\n",
    "        print(\"Warning: number suffix is missing, using %d as default for token '%s'.\" % (N, token))\n",
    "        return (chunks[0], N)  # a chunk, and 0 as N\n",
    "    else:\n",
    "        raise SyntaxError(\"Unrecognized 'name#N' token: '%s'.\" % token)\n",
    "    "
   ]
  },
  {
   "cell_type": "code",
   "execution_count": 96,
   "metadata": {},
   "outputs": [],
   "source": [
    "class TraceNode:\n",
    "    \"\"\"Base for an trace node. \"\"\"\n",
    "    def __init__(self, type_name='stmt', parent=None, alg_node=None, N=-1, attributes=None):\n",
    "        self.type_name = type_name\n",
    "        self.parent = parent\n",
    "        self.alg_node = alg_node\n",
    "        self.N = N\n",
    "        self.attributes = attributes or dict()\n",
    "        # calculated attributes\n",
    "        self.make_node_name(name=attributes[\"name\"] if (attributes and \"name\" in attributes) else None)\n",
    "        print('=== %20s created.' % self.node_name)\n",
    "    def make_node_name(self, name=None, N=None):\n",
    "        self.node_name = \"%s\" % ensure_unique(name or self.type_name)\n",
    "        if N is None and self.N > -1:\n",
    "            N = self.N\n",
    "#         N = str(N)\n",
    "        if N is not None:\n",
    "            self.node_name += \"#\" + str(N)\n",
    "    def search_up(self, node_class):\n",
    "        if isinstance(self, node_class): return self\n",
    "        elif self.parent:   return self.parent.search_up(node_class)\n",
    "        else: print('!!! %s not found in tree!' % node_class.__name__); return None\n",
    "    def get_triples(self):\n",
    "        triples = []\n",
    "        if self.alg_node:\n",
    "            triples += [\n",
    "                    (self.node_name, \"hasOrigin\", self.alg_node.node_name),\n",
    "            ]\n",
    "        if self.N > -1:\n",
    "            triples += [\n",
    "                    (self.node_name, \"hasN\", self.N),\n",
    "            ]\n",
    "        return triples\n",
    "    \n",
    "\n",
    "class Trace(TraceNode):\n",
    "    \"\"\" Root for trace tree created from .tr file \"\"\"\n",
    "    def __init__(self, alg_root=None):\n",
    "        TraceNode.__init__(self, type_name='Trace',\n",
    "                              alg_node=alg_root,\n",
    "                              parent = None,\n",
    "                             )\n",
    "        self.acts = []\n",
    "        self.contexts = []\n",
    "        # {name_str -> obj}\n",
    "        self.act_names = dict()\n",
    "        self.context_names = dict()\n",
    "    def parse_act_token(self, token):\n",
    "        if token in self.act_names:\n",
    "            return self.act_names[token]\n",
    "        else:\n",
    "            name, N = parse_trace_token(token)\n",
    "            # заглушка!\n",
    "            act = ActNode(self, name=name, N=N)\n",
    "            self.act_names[token] = act\n",
    "            self.acts.append(act)\n",
    "            return act\n",
    "        \n",
    "    def parse_context_label(self, token):\n",
    "        if token in self.context_names:\n",
    "            return self.context_names[token]\n",
    "        else:\n",
    "            name, N = parse_trace_token(token)\n",
    "            # заглушка!\n",
    "            ctx = ActContextNode(self, name=name, N=N)\n",
    "            self.context_names[token] = ctx\n",
    "            self.contexts.append(ctx)\n",
    "            return ctx\n",
    "        \n",
    "    def get_triples(self):\n",
    "        triples = [\n",
    "            (self.node_name, OWLPredicate[\"type\"], self.type_name),\n",
    "        ]\n",
    "        # call parent\n",
    "        triples += TraceNode.get_triples(self)\n",
    "        if self.acts:\n",
    "            triples += [\n",
    "                (self.node_name, \"hasFirstAct\", self.acts[0].node_name),\n",
    "                (self.node_name, \"hasLastAct\", self.acts[-1].node_name),\n",
    "            ]\n",
    "        prev_act = None\n",
    "        for act in self.acts:\n",
    "            triples += [\n",
    "                (self.node_name, \"hasAct\", act.node_name),\n",
    "            ]\n",
    "            triples += act.get_triples()\n",
    "            if prev_act:\n",
    "                triples += [\n",
    "                    (prev_act.node_name, \"hasNextAct\", act.node_name),\n",
    "                ]\n",
    "            prev_act = act\n",
    "        return triples\n",
    "    \n",
    "class ActNode(TraceNode):\n",
    "    \"\"\" Act of trace \"\"\"\n",
    "    def __init__(self, parent, alg_node=None, name='unkn_act', N=-1, begin_labels=None):\n",
    "        TraceNode.__init__(self, type_name='Act',\n",
    "                              alg_node=alg_node,\n",
    "                              parent = parent,\n",
    "                              N = N,\n",
    "                              attributes={ \"name\":name, }\n",
    "                          )\n",
    "        self.begin_labels = begin_labels or []\n",
    "        self.end_labels = []\n",
    "    def get_triples(self):\n",
    "        triples = [\n",
    "            (self.node_name, OWLPredicate[\"type\"], self.type_name),\n",
    "        ]\n",
    "        # call parent\n",
    "        triples += TraceNode.get_triples(self)\n",
    "        for lbl in self.begin_labels:\n",
    "            triples += [\n",
    "                (self.node_name, \"hasBeginLabel\", lbl.node_name),\n",
    "            ]\n",
    "            triples += lbl.get_triples()\n",
    "        for lbl in self.end_labels:\n",
    "            triples += [\n",
    "                (self.node_name, \"hasEndLabel\", lbl.node_name),\n",
    "            ]\n",
    "            triples += lbl.get_triples()\n",
    "        return triples\n",
    "    \n",
    "class ActContextNode(TraceNode):\n",
    "    \"\"\" Context (compound Act) can be labelled with BeginLabel and/or EndLabel \"\"\"\n",
    "    def __init__(self, parent, alg_node=None, name='unkn_context', N=-1):\n",
    "        TraceNode.__init__(self, type_name='ActContext',\n",
    "                              alg_node=alg_node,\n",
    "                              parent = parent,\n",
    "                              N = N,\n",
    "                              attributes={ \"name\":name, }\n",
    "                          )\n",
    "        self.begin = None\n",
    "        self.end = None\n",
    "    def get_begin(self):\n",
    "        if not self.begin:\n",
    "            self.begin = BeginLabelNode(self)\n",
    "        return self.begin\n",
    "    def get_end(self):\n",
    "        if not self.end:\n",
    "            self.end = EndLabelNode(self)\n",
    "        return self.end\n",
    "    def get_triples(self):\n",
    "        triples = [\n",
    "            (self.node_name, OWLPredicate[\"type\"], self.type_name),\n",
    "        ]\n",
    "        # call parent\n",
    "        triples += TraceNode.get_triples(self)\n",
    "        return triples\n",
    "    \n",
    "class AbstractLabelNode(TraceNode):\n",
    "    \"\"\" Abstract Act's label \"\"\"\n",
    "    def __init__(self, parent, type_name='Any~Label'):\n",
    "        assert isinstance(parent, ActContextNode), 'Label must be connected to ActContextNode via parent parameter.'\n",
    "        TraceNode.__init__(self, type_name=type_name,\n",
    "                              parent = parent,\n",
    "                              attributes={ \"name\":parent.node_name+'_'+type_name, }\n",
    "                          )\n",
    "    def get_triples(self):\n",
    "        triples = [\n",
    "            (self.node_name, OWLPredicate[\"type\"], self.type_name),\n",
    "            (self.node_name, \"isLabelOf\", self.parent.node_name),\n",
    "        ]\n",
    "        # call parent  -  unnesessary (no appropriate properties assigned)\n",
    "#         triples += TraceNode.get_triples(self)\n",
    "        # call context\n",
    "        triples += self.parent.get_triples()\n",
    "        #         # call context, & prevent duplicates\n",
    "        #         parent_triples = self.parent.get_triples()\n",
    "        #         for pt in parent_triples:\n",
    "        #             if pt not in triples:\n",
    "        #                 triples.append(pt)\n",
    "        return triples\n",
    "    \n",
    "class BeginLabelNode(AbstractLabelNode):\n",
    "    \"\"\" Act's labell: begin of Context \"\"\"\n",
    "    def __init__(self, parent):\n",
    "        AbstractLabelNode.__init__(self, type_name='BeginLabel',  parent = parent)\n",
    "class EndLabelNode(AbstractLabelNode):\n",
    "    \"\"\" Act's label: end of Context \"\"\"\n",
    "    def __init__(self, parent):\n",
    "        AbstractLabelNode.__init__(self, type_name='EndLabel', parent = parent)\n"
   ]
  },
  {
   "cell_type": "markdown",
   "metadata": {},
   "source": [
    "## Прочитаем трассу из файла"
   ]
  },
  {
   "cell_type": "code",
   "execution_count": 97,
   "metadata": {},
   "outputs": [
    {
     "data": {
      "text/plain": [
       "[[':begin', 'Seq_1'],\n",
       " ['hello()#1'],\n",
       " ['how_are_you()#1'],\n",
       " ['bye()#1'],\n",
       " [':end', 'Seq_1']]"
      ]
     },
     "execution_count": 97,
     "metadata": {},
     "output_type": "execute_result"
    }
   ],
   "source": [
    "trace_filename = 'examples/ex-seq.tr'\n",
    "\n",
    "with open(trace_filename) as f:\n",
    "    lines = f.readlines()\n",
    "tokens = [L.strip().split() for L in lines]\n",
    "\n",
    "del lines\n",
    "tokens"
   ]
  },
  {
   "cell_type": "code",
   "execution_count": 101,
   "metadata": {},
   "outputs": [
    {
     "name": "stdout",
     "output_type": "stream",
     "text": [
      "===                Trace created.\n",
      "===            hello()#1 created.\n",
      "Warning: number suffix is missing, using 0 as default for token 'Seq_1'.\n",
      "===              Seq_1#0 created.\n",
      "===   Seq_1#0_BeginLabel created.\n",
      "===      how_are_you()#1 created.\n",
      "===              bye()#1 created.\n",
      "===     Seq_1#0_EndLabel created.\n",
      "\n",
      "\\o/\n",
      " H\n",
      "/|\n"
     ]
    }
   ],
   "source": [
    "uniq_names.clear()\n",
    "# using existing alg\n",
    "\n",
    "tr = Trace(alg)\n",
    "\n",
    "BEGIN_MARKS = {'begin', 'begins', 'beginof', 'begin-of', 'begin_of',  }\n",
    "END_MARKS = {'end', 'ends', 'endof', 'end-of', 'end_of',  }\n",
    "MARK_SIGNS = (':', '.')\n",
    "MARK_CHARS = ''.join(MARK_SIGNS)\n",
    "COMMENT_SIGNS = ('#', '//')\n",
    "\n",
    "begin_labels = []\n",
    "end_labels = []\n",
    "\n",
    "for line_i, line_tokens in enumerate(tokens):\n",
    "    if not line_tokens:\n",
    "        continue\n",
    "        \n",
    "    token = line_tokens[0]\n",
    "    if token.startswith(COMMENT_SIGNS):\n",
    "        continue\n",
    "        \n",
    "    rest_of_tokens = line_tokens[1:]\n",
    "    if token.startswith(MARK_SIGNS):\n",
    "        # labels line\n",
    "        token = token.strip(MARK_CHARS).lower()\n",
    "        if token in BEGIN_MARKS:\n",
    "            begin_labels += rest_of_tokens\n",
    "        elif token in END_MARKS:\n",
    "            end_labels += rest_of_tokens\n",
    "        else:\n",
    "            line_n = line_i + 1\n",
    "            raise SyntaxError(\"Unrecognized label mark: '%s'\" % token+(' at line %d of trace' % line_n)+':\\n'+(\"%d:\\t%s\\n\" % (line_n, ' '.join(line_tokens)))\n",
    "                              +' Expected one of:\\n %s\\n  or\\n %s'%(str(BEGIN_MARKS),str(END_MARKS)))\n",
    "#         print(token)\n",
    "        if end_labels:\n",
    "            # apply end_labels to previous act\n",
    "            if not tr.acts:\n",
    "                line_n = line_i + 1\n",
    "                raise SyntaxError(\"Unexpected END labels: %s.\\n No preceeding act found to attach these labels.\" % str(end_labels)+(' At line %d of trace' % line_n)+':\\n'+(\"%d:\\t%s\\n\" % (line_n, ' '.join(line_tokens))))\n",
    "            \n",
    "            prev_act = tr.acts[-1]   # no following acts written yet\n",
    "            for lbl in end_labels:\n",
    "                label = tr.parse_context_label(lbl).get_end()\n",
    "                prev_act.end_labels.append(label)\n",
    "            end_labels.clear()\n",
    "    else:\n",
    "        # act line\n",
    "        if rest_of_tokens:\n",
    "            line_n = line_i + 1\n",
    "            raise SyntaxError(\"Not supported: multiple acts on the same line.\"+(' At line %d of trace' % line_n)+':\\n'+(\"%d:\\t%s\\n\" % (line_n, ' '.join(line_tokens))))\n",
    "        \n",
    "        # parse act token\n",
    "        new_act = tr.parse_act_token(token)\n",
    "        \n",
    "        if begin_labels:\n",
    "            # apply begin_labels to newly created act\n",
    "            for lbl in begin_labels:\n",
    "                label = tr.parse_context_label(lbl).get_begin()\n",
    "                new_act.begin_labels.append(label)\n",
    "        begin_labels.clear()\n",
    "            \n",
    "            \n",
    "print('\\n\\o/')\n",
    "print(' H')\n",
    "print('/|')\n"
   ]
  },
  {
   "cell_type": "code",
   "execution_count": 102,
   "metadata": {},
   "outputs": [
    {
     "name": "stdout",
     "output_type": "stream",
     "text": [
      "25\n"
     ]
    },
    {
     "data": {
      "text/plain": [
       "[('Trace', 'rdf:type', 'Trace'),\n",
       " ('Trace', 'hasOrigin', 'Algorithm'),\n",
       " ('Trace', 'hasFirstAct', 'hello()#1'),\n",
       " ('Trace', 'hasLastAct', 'bye()#1'),\n",
       " ('Trace', 'hasAct', 'hello()#1'),\n",
       " ('hello()#1', 'rdf:type', 'Act'),\n",
       " ('hello()#1', 'hasN', 1),\n",
       " ('hello()#1', 'hasBeginLabel', 'Seq_1#0_BeginLabel'),\n",
       " ('Seq_1#0_BeginLabel', 'rdf:type', 'BeginLabel'),\n",
       " ('Seq_1#0_BeginLabel', 'isLabelOf', 'Seq_1#0'),\n",
       " ('Seq_1#0', 'rdf:type', 'ActContext'),\n",
       " ('Seq_1#0', 'hasN', 0),\n",
       " ('Trace', 'hasAct', 'how_are_you()#1'),\n",
       " ('how_are_you()#1', 'rdf:type', 'Act'),\n",
       " ('how_are_you()#1', 'hasN', 1),\n",
       " ('hello()#1', 'hasNextAct', 'how_are_you()#1'),\n",
       " ('Trace', 'hasAct', 'bye()#1'),\n",
       " ('bye()#1', 'rdf:type', 'Act'),\n",
       " ('bye()#1', 'hasN', 1),\n",
       " ('bye()#1', 'hasEndLabel', 'Seq_1#0_EndLabel'),\n",
       " ('Seq_1#0_EndLabel', 'rdf:type', 'EndLabel'),\n",
       " ('Seq_1#0_EndLabel', 'isLabelOf', 'Seq_1#0'),\n",
       " ('Seq_1#0', 'rdf:type', 'ActContext'),\n",
       " ('Seq_1#0', 'hasN', 0),\n",
       " ('how_are_you()#1', 'hasNextAct', 'bye()#1')]"
      ]
     },
     "execution_count": 102,
     "metadata": {},
     "output_type": "execute_result"
    }
   ],
   "source": [
    "_3ples = tr.get_triples()\n",
    "print(len(_3ples))\n",
    "_3ples"
   ]
  },
  {
   "cell_type": "code",
   "execution_count": null,
   "metadata": {},
   "outputs": [],
   "source": []
  },
  {
   "cell_type": "code",
   "execution_count": 23,
   "metadata": {
    "scrolled": true
   },
   "outputs": [
    {
     "data": {
      "text/plain": [
       "('rdf:type', ':type', ':myType')"
      ]
     },
     "execution_count": 23,
     "metadata": {},
     "output_type": "execute_result"
    }
   ],
   "source": [
    "# обработать префиксы сущностей OWL\n",
    "def make_namespace_prefix(name, default_prefix=':', known_prefixes=None):\n",
    "    \"\"\" Prepends default_prefix to name if required and no one of known_prefixes present \"\"\"\n",
    "    if name.startswith(default_prefix):\n",
    "        return name\n",
    "    if name.startswith( tuple(known_prefixes or () ) ):\n",
    "        return name\n",
    "    # no known_prefix present\n",
    "    return default_prefix + name\n",
    "    \n",
    "\n",
    "(make_namespace_prefix('rdf:type', known_prefixes=c2onto.OWLPredicate.values()) ,\n",
    "make_namespace_prefix(':type', known_prefixes=c2onto.OWLPredicate.values()) ,\n",
    "make_namespace_prefix('myType') ,\n",
    ")\n"
   ]
  },
  {
   "cell_type": "code",
   "execution_count": 24,
   "metadata": {},
   "outputs": [
    {
     "data": {
      "text/plain": [
       "[(':Algorithm', 'rdf:type', ':Algorithm'),\n",
       " (':Algorithm', ':hasFunc', ':main()'),\n",
       " (':main()', 'rdf:type', ':Function'),\n",
       " (':main()', ':hasName', ':main'),\n",
       " (':main()', ':hasBody', ':Seq_1'),\n",
       " (':Seq_1', ':hasFirstSt', ':call-hello()'),\n",
       " (':Seq_1', ':hasLastSt', ':call-bye()'),\n",
       " (':Seq_1', ':hasSubStmt', ':call-hello()'),\n",
       " (':call-hello()', 'rdf:type', ':FuncCall'),\n",
       " (':Seq_1', ':hasSubStmt', ':call-how_are_you()'),\n",
       " (':call-how_are_you()', 'rdf:type', ':FuncCall'),\n",
       " (':call-hello()', ':hasNextSt', ':call-how_are_you()'),\n",
       " (':Seq_1', ':hasSubStmt', ':call-bye()'),\n",
       " (':call-bye()', 'rdf:type', ':FuncCall'),\n",
       " (':call-how_are_you()', ':hasNextSt', ':call-bye()')]"
      ]
     },
     "execution_count": 24,
     "metadata": {},
     "output_type": "execute_result"
    }
   ],
   "source": [
    "f = lambda s: make_namespace_prefix(s, default_prefix=':', known_prefixes=c2onto.OWLPredicate.values())\n",
    "triples = [tuple(f(a) for a in trpl) for trpl in triples]\n",
    "triples"
   ]
  },
  {
   "cell_type": "code",
   "execution_count": 26,
   "metadata": {},
   "outputs": [],
   "source": [
    "# И формировать SPARQL-запросы.\n",
    "def triple_to_sparql_insert(triple, prefix_str=\"\"):\n",
    "\n",
    "    s = \"\"\"INSERT DATA\n",
    "{ \n",
    "%s %s %s .\n",
    "}\"\"\" % triple\n",
    "    return prefix_str + s\n",
    "    "
   ]
  },
  {
   "cell_type": "code",
   "execution_count": 27,
   "metadata": {
    "scrolled": true
   },
   "outputs": [
    {
     "name": "stdout",
     "output_type": "stream",
     "text": [
      "\n",
      "BASE <http://vstu.ru/poas/se/c_schema_2020-01#>\n",
      "PREFIX rdf: <http://www.w3.org/1999/02/22-rdf-syntax-ns#>\n",
      "\n",
      "INSERT DATA\n",
      "{ \n",
      ":Algorithm rdf:type :Algorithm .\n",
      "}\n"
     ]
    }
   ],
   "source": [
    "prefix_str = \"\"\"\n",
    "BASE <http://vstu.ru/poas/se/c_schema_2020-01#>\n",
    "PREFIX rdf: <http://www.w3.org/1999/02/22-rdf-syntax-ns#>\n",
    "\n",
    "\"\"\"\n",
    "q = triple_to_sparql_insert(triples[0], prefix_str)\n",
    "print(q)"
   ]
  },
  {
   "cell_type": "code",
   "execution_count": null,
   "metadata": {},
   "outputs": [],
   "source": [
    "# from SPARQLWrapper import SPARQLWrapper, JSON, RDFXML, N3\n"
   ]
  },
  {
   "cell_type": "code",
   "execution_count": null,
   "metadata": {},
   "outputs": [],
   "source": []
  },
  {
   "cell_type": "code",
   "execution_count": null,
   "metadata": {},
   "outputs": [],
   "source": []
  },
  {
   "cell_type": "code",
   "execution_count": null,
   "metadata": {},
   "outputs": [],
   "source": []
  },
  {
   "cell_type": "code",
   "execution_count": 47,
   "metadata": {
    "scrolled": true
   },
   "outputs": [
    {
     "name": "stdout",
     "output_type": "stream",
     "text": [
      "305 ns ± 5.45 ns per loop (mean ± std. dev. of 7 runs, 1000000 loops each)\n"
     ]
    }
   ],
   "source": [
    "%%timeit\n",
    "\n",
    "tuple( [] )"
   ]
  },
  {
   "cell_type": "code",
   "execution_count": 48,
   "metadata": {},
   "outputs": [
    {
     "name": "stdout",
     "output_type": "stream",
     "text": [
      "271 ns ± 7.08 ns per loop (mean ± std. dev. of 7 runs, 1000000 loops each)\n"
     ]
    }
   ],
   "source": [
    "%%timeit\n",
    "\n",
    "tuple( () )"
   ]
  },
  {
   "cell_type": "code",
   "execution_count": 62,
   "metadata": {},
   "outputs": [],
   "source": [
    "v = FuncDefFinder()"
   ]
  },
  {
   "cell_type": "code",
   "execution_count": null,
   "metadata": {},
   "outputs": [],
   "source": [
    "v.generic_visit(ast)"
   ]
  },
  {
   "cell_type": "code",
   "execution_count": 18,
   "metadata": {},
   "outputs": [
    {
     "data": {
      "text/plain": [
       "True"
      ]
     },
     "execution_count": 18,
     "metadata": {},
     "output_type": "execute_result"
    }
   ],
   "source": [
    "isinstance('abc',str)"
   ]
  },
  {
   "cell_type": "code",
   "execution_count": 53,
   "metadata": {},
   "outputs": [
    {
     "data": {
      "text/plain": [
       "'Algorithm@<root>'"
      ]
     },
     "execution_count": 53,
     "metadata": {},
     "output_type": "execute_result"
    }
   ],
   "source": [
    "alg.node_name\n"
   ]
  },
  {
   "cell_type": "code",
   "execution_count": 38,
   "metadata": {},
   "outputs": [
    {
     "data": {
      "text/plain": [
       "[<__main__.FuncDefNode at 0x5eb1a50>, <__main__.FuncDefNode at 0x5eb19f0>]"
      ]
     },
     "execution_count": 38,
     "metadata": {},
     "output_type": "execute_result"
    }
   ],
   "source": [
    "alg.nodes"
   ]
  },
  {
   "cell_type": "code",
   "execution_count": 39,
   "metadata": {},
   "outputs": [
    {
     "data": {
      "text/plain": [
       "[<__main__.FuncDefNode at 0x5eb1a50>, <__main__.FuncDefNode at 0x5eb19f0>]"
      ]
     },
     "execution_count": 39,
     "metadata": {},
     "output_type": "execute_result"
    }
   ],
   "source": [
    "# def rpr(self):\n",
    "#     return self.repr()\n",
    "# alg.nodes[0].__str__ = rpr\n",
    "\n",
    "alg.nodes"
   ]
  },
  {
   "cell_type": "code",
   "execution_count": 40,
   "metadata": {},
   "outputs": [],
   "source": [
    "f = alg.nodes[0]\n"
   ]
  },
  {
   "cell_type": "code",
   "execution_count": 42,
   "metadata": {
    "scrolled": true
   },
   "outputs": [
    {
     "data": {
      "text/plain": [
       "'FuncDef@examples/ex2f.c:3:6'"
      ]
     },
     "execution_count": 42,
     "metadata": {},
     "output_type": "execute_result"
    }
   ],
   "source": [
    "f.node_name"
   ]
  },
  {
   "cell_type": "code",
   "execution_count": 30,
   "metadata": {},
   "outputs": [],
   "source": [
    "b = ast.ext[1].body\n",
    "b2 = b.block_items[1]"
   ]
  },
  {
   "cell_type": "code",
   "execution_count": 68,
   "metadata": {},
   "outputs": [
    {
     "data": {
      "text/plain": [
       "'7:1'"
      ]
     },
     "execution_count": 68,
     "metadata": {},
     "output_type": "execute_result"
    }
   ],
   "source": [
    "coord2str(b2.coord)"
   ]
  },
  {
   "cell_type": "code",
   "execution_count": 71,
   "metadata": {},
   "outputs": [
    {
     "data": {
      "text/plain": [
       "pycparser.plyparser.Coord"
      ]
     },
     "execution_count": 71,
     "metadata": {},
     "output_type": "execute_result"
    }
   ],
   "source": [
    "type(b2.coord)"
   ]
  },
  {
   "cell_type": "code",
   "execution_count": 44,
   "metadata": {},
   "outputs": [],
   "source": [
    "if1 = b2.block_items[0]"
   ]
  },
  {
   "cell_type": "code",
   "execution_count": 54,
   "metadata": {},
   "outputs": [
    {
     "data": {
      "text/plain": [
       "pycparser.c_ast.Constant"
      ]
     },
     "execution_count": 54,
     "metadata": {},
     "output_type": "execute_result"
    }
   ],
   "source": [
    "type(if1.cond)"
   ]
  },
  {
   "cell_type": "code",
   "execution_count": 63,
   "metadata": {},
   "outputs": [
    {
     "name": "stdout",
     "output_type": "stream",
     "text": [
      "1\n"
     ]
    }
   ],
   "source": [
    "print(ast_to_code(if1.cond))"
   ]
  },
  {
   "cell_type": "code",
   "execution_count": 65,
   "metadata": {},
   "outputs": [
    {
     "name": "stdout",
     "output_type": "stream",
     "text": [
      "a, b, c, d, e, f\n"
     ]
    }
   ],
   "source": [
    "call = b.block_items[0].stmt\n",
    "print(ast_to_code(call.args))"
   ]
  },
  {
   "cell_type": "code",
   "execution_count": null,
   "metadata": {},
   "outputs": [],
   "source": []
  },
  {
   "cell_type": "code",
   "execution_count": 37,
   "metadata": {},
   "outputs": [
    {
     "data": {
      "text/plain": [
       "type"
      ]
     },
     "execution_count": 37,
     "metadata": {},
     "output_type": "execute_result"
    }
   ],
   "source": [
    "type(type(b))"
   ]
  },
  {
   "cell_type": "code",
   "execution_count": 40,
   "metadata": {},
   "outputs": [
    {
     "data": {
      "text/plain": [
       "True"
      ]
     },
     "execution_count": 40,
     "metadata": {},
     "output_type": "execute_result"
    }
   ],
   "source": [
    "type(b) == c_ast.Compound"
   ]
  },
  {
   "cell_type": "code",
   "execution_count": 35,
   "metadata": {},
   "outputs": [
    {
     "data": {
      "text/plain": [
       "True"
      ]
     },
     "execution_count": 35,
     "metadata": {},
     "output_type": "execute_result"
    }
   ],
   "source": [
    "b.__class__ == c_ast.Compound"
   ]
  },
  {
   "cell_type": "code",
   "execution_count": 53,
   "metadata": {},
   "outputs": [
    {
     "name": "stdout",
     "output_type": "stream",
     "text": [
      "FileAST: \n",
      "  Decl <ext[0]>: name=global_counter, quals=[], storage=[], funcspec=[]\n",
      "    TypeDecl <type>: declname=global_counter, quals=[]\n",
      "      IdentifierType <type>: names=['int']\n",
      "    Constant <init>: type=int, value=0\n",
      "  FuncDef <ext[1]>: \n",
      "    Decl <decl>: name=main, quals=[], storage=[], funcspec=[]\n",
      "      FuncDecl <type>: \n",
      "        TypeDecl <type>: declname=main, quals=[]\n",
      "          IdentifierType <type>: names=['void']\n",
      "    Compound <body>: \n",
      "      For <block_items[0]>: \n",
      "        FuncCall <stmt>: \n",
      "          ID <name>: name=st_3\n",
      "          ExprList <args>: \n",
      "            ID <exprs[0]>: name=a\n",
      "            ID <exprs[1]>: name=b\n",
      "            ID <exprs[2]>: name=c\n",
      "            ID <exprs[3]>: name=d\n",
      "            ID <exprs[4]>: name=e\n",
      "            ID <exprs[5]>: name=f\n",
      "      Compound <block_items[1]>: \n",
      "        If <block_items[0]>: \n",
      "          Constant <cond>: type=int, value=1\n",
      "          Compound <iftrue>: \n",
      "            If <block_items[0]>: \n",
      "              Constant <cond>: type=int, value=0\n",
      "              Compound <iftrue>: \n",
      "                FuncCall <block_items[0]>: \n",
      "                  ID <name>: name=do_9\n",
      "                  ExprList <args>: \n",
      "                    BinaryOp <exprs[0]>: op=*\n",
      "                      ID <left>: name=x\n",
      "                      Constant <right>: type=int, value=2\n",
      "                FuncCall <block_items[1]>: \n",
      "                  ID <name>: name=do_10\n",
      "                  ExprList <args>: \n",
      "                    BinaryOp <exprs[0]>: op=-\n",
      "                      ID <left>: name=y\n",
      "                      Constant <right>: type=int, value=25\n",
      "  FuncDef <ext[2]>: \n",
      "    Decl <decl>: name=my_f, quals=[], storage=[], funcspec=[]\n",
      "      FuncDecl <type>: \n",
      "        ParamList <args>: \n",
      "          Decl <params[0]>: name=param, quals=[], storage=[], funcspec=[]\n",
      "            TypeDecl <type>: declname=param, quals=[]\n",
      "              IdentifierType <type>: names=['int']\n",
      "        TypeDecl <type>: declname=my_f, quals=[]\n",
      "          IdentifierType <type>: names=['void']\n",
      "    Compound <body>: \n",
      "      FuncCall <block_items[0]>: \n",
      "        ID <name>: name=see_help\n",
      "        ExprList <args>: \n",
      "          Constant <exprs[0]>: type=string, value=\"tools\"\n",
      "      Return <block_items[1]>: \n",
      "        BinaryOp <expr>: op=<<\n",
      "          ID <left>: name=param\n",
      "          BinaryOp <right>: op=-\n",
      "            Constant <left>: type=int, value=5\n",
      "            ID <right>: name=param\n"
     ]
    }
   ],
   "source": [
    "ast.show(nodenames=1, attrnames=True)\n"
   ]
  }
 ],
 "metadata": {
  "kernelspec": {
   "display_name": "Python 3",
   "language": "python",
   "name": "python3"
  },
  "language_info": {
   "codemirror_mode": {
    "name": "ipython",
    "version": 3
   },
   "file_extension": ".py",
   "mimetype": "text/x-python",
   "name": "python",
   "nbconvert_exporter": "python",
   "pygments_lexer": "ipython3",
   "version": "3.7.2"
  }
 },
 "nbformat": 4,
 "nbformat_minor": 2
}
